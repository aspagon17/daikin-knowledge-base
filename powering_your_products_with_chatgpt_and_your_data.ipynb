{
 "cells": [
  {
   "attachments": {},
   "cell_type": "markdown",
   "id": "63785634",
   "metadata": {},
   "source": [
    "# Power your products with ChatGPT and your own data\n",
    "\n",
    "This is a walkthrough taking readers through how to build starter Q&A and Chatbot applications using the ChatGPT API and their own data. \n",
    "\n",
    "It is laid out in these sections:\n",
    "- **Setup:** \n",
    "    - Initiate variables and source the data\n",
    "- **Lay the foundations:**\n",
    "    - Set up the vector database to accept vectors and data\n",
    "    - Load the dataset, chunk the data up for embedding and store in the vector database\n",
    "- **Make it a product:**\n",
    "    - Add a retrieval step where users provide queries and we return the most relevant entries\n",
    "    - Summarise search results with GPT-3\n",
    "    - Test out this basic Q&A app in Streamlit\n",
    "- **Build your moat:**\n",
    "    - Create an Assistant class to manage context and interact with our bot\n",
    "    - Use the Chatbot to answer questions using semantic search context\n",
    "    - Test out this basic Chatbot app in Streamlit\n",
    "    \n",
    "Upon completion, you have the building blocks to create your own production chatbot or Q&A application using OpenAI APIs and a vector database.\n",
    "\n",
    "This notebook was originally presented with [these slides](https://drive.google.com/file/d/1dB-RQhZC_Q1iAsHkNNdkqtxxXqYODFYy/view?usp=share_link), which provide visual context for this journey."
   ]
  },
  {
   "cell_type": "code",
   "execution_count": 33,
   "id": "59f08ea7",
   "metadata": {},
   "outputs": [
    {
     "name": "stdout",
     "output_type": "stream",
     "text": [
      "The autoreload extension is already loaded. To reload it, use:\n",
      "  %reload_ext autoreload\n"
     ]
    }
   ],
   "source": [
    "%load_ext autoreload\n",
    "%autoreload 2"
   ]
  },
  {
   "attachments": {},
   "cell_type": "markdown",
   "id": "13649895",
   "metadata": {},
   "source": [
    "## Setup\n",
    "\n",
    "First we'll setup our libraries and environment variables"
   ]
  },
  {
   "cell_type": "code",
   "execution_count": 34,
   "id": "7590fbfc",
   "metadata": {},
   "outputs": [],
   "source": [
    "import openai\n",
    "import os\n",
    "import requests\n",
    "import numpy as np\n",
    "import pandas as pd\n",
    "from typing import Iterator\n",
    "import tiktoken\n",
    "import textract\n",
    "from numpy import array, average\n",
    "\n",
    "from database import get_redis_connection\n",
    "\n",
    "# Set our default models and chunking size\n",
    "from config import COMPLETIONS_MODEL, EMBEDDINGS_MODEL, CHAT_MODEL, TEXT_EMBEDDING_CHUNK_SIZE, VECTOR_FIELD_NAME\n",
    "\n",
    "# Ignore unclosed SSL socket warnings - optional in case you get these errors\n",
    "import warnings\n",
    "\n",
    "warnings.filterwarnings(action=\"ignore\", message=\"unclosed\", category=ImportWarning)\n",
    "warnings.filterwarnings(\"ignore\", category=DeprecationWarning) "
   ]
  },
  {
   "cell_type": "code",
   "execution_count": 35,
   "id": "760efc1e",
   "metadata": {},
   "outputs": [],
   "source": [
    "pd.set_option('display.max_colwidth', 0)"
   ]
  },
  {
   "cell_type": "code",
   "execution_count": 36,
   "id": "3f90817d",
   "metadata": {},
   "outputs": [
    {
     "data": {
      "text/plain": [
       "['01-EN-3P379970-7B.pdf',\n",
       " '01_en_3p436086-1d.pdf',\n",
       " '01_en_3p591321-10e-rzr_rzq-tbvjua-installation-manual.pdf']"
      ]
     },
     "execution_count": 36,
     "metadata": {},
     "output_type": "execute_result"
    }
   ],
   "source": [
    "data_dir = os.path.join(os.curdir,'data')\n",
    "pdf_files = sorted([x for x in os.listdir(data_dir) if 'DS_Store' not in x])\n",
    "pdf_files"
   ]
  },
  {
   "attachments": {},
   "cell_type": "markdown",
   "id": "5dc4018c",
   "metadata": {},
   "source": [
    "## Laying the foundations"
   ]
  },
  {
   "attachments": {},
   "cell_type": "markdown",
   "id": "632b82ed",
   "metadata": {},
   "source": [
    "### Storage\n",
    "\n",
    "We're going to use Redis as our database for both document contents and the vector embeddings. You will need the full Redis Stack to enable use of Redisearch, which is the module that allows semantic search - more detail is in the [docs for Redis Stack](https://redis.io/docs/stack/get-started/install/docker/).\n",
    "\n",
    "To set this up locally, you will need to install Docker and then run the following command: ```docker run -d --name redis-stack -p 6379:6379 -p 8001:8001 redis/redis-stack:latest```.\n",
    "\n",
    "The code used here draws heavily on [this repo](https://github.com/RedisAI/vecsim-demo).\n",
    "\n",
    "After setting up the Docker instance of Redis Stack, you can follow the below instructions to initiate a Redis connection and create a Hierarchical Navigable Small World (HNSW) index for semantic search."
   ]
  },
  {
   "cell_type": "code",
   "execution_count": 37,
   "id": "17d6b886",
   "metadata": {},
   "outputs": [],
   "source": [
    "# Setup Redis\n",
    "from redis import Redis\n",
    "from redis.commands.search.query import Query\n",
    "from redis.commands.search.field import (\n",
    "    TextField,\n",
    "    VectorField,\n",
    "    NumericField\n",
    ")\n",
    "from redis.commands.search.indexDefinition import (\n",
    "    IndexDefinition,\n",
    "    IndexType\n",
    ")\n",
    "\n",
    "redis_client = get_redis_connection()"
   ]
  },
  {
   "cell_type": "code",
   "execution_count": 38,
   "id": "4f3d3e6b",
   "metadata": {},
   "outputs": [],
   "source": [
    "# Constants\n",
    "VECTOR_DIM = 1536 #len(data['title_vector'][0]) # length of the vectors\n",
    "#VECTOR_NUMBER = len(data)                 # initial number of vectors\n",
    "PREFIX = \"sportsdoc\"                            # prefix for the document keys\n",
    "DISTANCE_METRIC = \"COSINE\"                # distance metric for the vectors (ex. COSINE, IP, L2)"
   ]
  },
  {
   "cell_type": "code",
   "execution_count": 39,
   "id": "d3c352ca",
   "metadata": {},
   "outputs": [],
   "source": [
    "# Create search index\n",
    "\n",
    "# Index\n",
    "INDEX_NAME = \"f1-index\"           # name of the search index\n",
    "VECTOR_FIELD_NAME = 'content_vector'\n",
    "\n",
    "# Define RediSearch fields for each of the columns in the dataset\n",
    "# This is where you should add any additional metadata you want to capture\n",
    "filename = TextField(\"filename\")\n",
    "text_chunk = TextField(\"text_chunk\")\n",
    "file_chunk_index = NumericField(\"file_chunk_index\")\n",
    "\n",
    "# define RediSearch vector fields to use HNSW index\n",
    "\n",
    "text_embedding = VectorField(VECTOR_FIELD_NAME,\n",
    "    \"HNSW\", {\n",
    "        \"TYPE\": \"FLOAT32\",\n",
    "        \"DIM\": VECTOR_DIM,\n",
    "        \"DISTANCE_METRIC\": DISTANCE_METRIC\n",
    "    }\n",
    ")\n",
    "# Add all our field objects to a list to be created as an index\n",
    "fields = [filename,text_chunk,file_chunk_index,text_embedding]"
   ]
  },
  {
   "cell_type": "code",
   "execution_count": 40,
   "id": "a6c78b7e",
   "metadata": {},
   "outputs": [
    {
     "data": {
      "text/plain": [
       "True"
      ]
     },
     "execution_count": 40,
     "metadata": {},
     "output_type": "execute_result"
    }
   ],
   "source": [
    "redis_client.ping()"
   ]
  },
  {
   "cell_type": "code",
   "execution_count": 41,
   "id": "cf3ad41f",
   "metadata": {},
   "outputs": [
    {
     "name": "stdout",
     "output_type": "stream",
     "text": [
      "Index already exists\n"
     ]
    }
   ],
   "source": [
    "# Optional step to drop the index if it already exists\n",
    "#redis_client.ft(INDEX_NAME).dropindex()\n",
    "\n",
    "# Check if index exists\n",
    "try:\n",
    "    redis_client.ft(INDEX_NAME).info()\n",
    "    print(\"Index already exists\")\n",
    "except Exception as e:\n",
    "    print(e)\n",
    "    # Create RediSearch Index\n",
    "    print('Not there yet. Creating')\n",
    "    redis_client.ft(INDEX_NAME).create_index(\n",
    "        fields = fields,\n",
    "        definition = IndexDefinition(prefix=[PREFIX], index_type=IndexType.HASH)\n",
    "    )"
   ]
  },
  {
   "attachments": {},
   "cell_type": "markdown",
   "id": "f74ebeb5",
   "metadata": {},
   "source": [
    "### Ingestion\n",
    "\n",
    "We'll load up our PDFs and do the following\n",
    "- Initiate our tokenizer\n",
    "- Run a processing pipeline to:\n",
    "    - Mine the text from each PDF\n",
    "    - Split them into chunks and embed them\n",
    "    - Store them in Redis"
   ]
  },
  {
   "cell_type": "code",
   "execution_count": 43,
   "id": "ed23bf9d",
   "metadata": {},
   "outputs": [],
   "source": [
    "# The transformers.py file contains all of the transforming functions, including ones to chunk, embed and load data\n",
    "# For more details, check the file and work through each function individually\n",
    "from transformers import handle_file_string"
   ]
  },
  {
   "cell_type": "code",
   "execution_count": 16,
   "id": "31f299f6",
   "metadata": {},
   "outputs": [
    {
     "name": "stdout",
     "output_type": "stream",
     "text": [
      "./data/01-EN-3P379970-7B.pdf\n",
      "./data/01_en_3p436086-1d.pdf\n",
      "./data/01_en_3p591321-10e-rzr_rzq-tbvjua-installation-manual.pdf\n",
      "CPU times: user 757 ms, sys: 138 ms, total: 896 ms\n",
      "Wall time: 23.4 s\n"
     ]
    }
   ],
   "source": [
    "%%time\n",
    "# This step takes about 5 minutes\n",
    "\n",
    "# Initialise tokenizer\n",
    "tokenizer = tiktoken.get_encoding(\"cl100k_base\")\n",
    "\n",
    "# Process each PDF file and prepare for embedding\n",
    "for pdf_file in pdf_files:\n",
    "    \n",
    "    pdf_path = os.path.join(data_dir,pdf_file)\n",
    "    print(pdf_path)\n",
    "    \n",
    "    # Extract the raw text from each PDF using textract\n",
    "    text = textract.process(pdf_path, method='pdfminer')\n",
    "    \n",
    "    # Chunk each document, embed the contents and load to Redis\n",
    "    handle_file_string((pdf_file,text.decode(\"utf-8\")),tokenizer,redis_client,VECTOR_FIELD_NAME,INDEX_NAME)"
   ]
  },
  {
   "cell_type": "code",
   "execution_count": 44,
   "id": "22aff597",
   "metadata": {},
   "outputs": [
    {
     "data": {
      "text/plain": [
       "'136'"
      ]
     },
     "execution_count": 44,
     "metadata": {},
     "output_type": "execute_result"
    }
   ],
   "source": [
    "# Check that our docs have been inserted\n",
    "redis_client.ft(INDEX_NAME).info()['num_docs']"
   ]
  },
  {
   "attachments": {},
   "cell_type": "markdown",
   "id": "6b12cb6e",
   "metadata": {},
   "source": [
    "## Make it a product\n",
    "\n",
    "Now we can test that our search works as intended by:\n",
    "- Querying our data in Redis using semantic search and verifying results\n",
    "- Adding a step to pass the results to GPT-3 for summarisation"
   ]
  },
  {
   "cell_type": "code",
   "execution_count": 45,
   "id": "e921ac96",
   "metadata": {},
   "outputs": [],
   "source": [
    "from database import get_redis_results"
   ]
  },
  {
   "cell_type": "code",
   "execution_count": 46,
   "id": "cb9dfacf",
   "metadata": {},
   "outputs": [
    {
     "name": "stdout",
     "output_type": "stream",
     "text": [
      "CPU times: user 6.16 ms, sys: 1.17 ms, total: 7.33 ms\n",
      "Wall time: 158 ms\n"
     ]
    },
    {
     "data": {
      "text/html": [
       "<div>\n",
       "<style scoped>\n",
       "    .dataframe tbody tr th:only-of-type {\n",
       "        vertical-align: middle;\n",
       "    }\n",
       "\n",
       "    .dataframe tbody tr th {\n",
       "        vertical-align: top;\n",
       "    }\n",
       "\n",
       "    .dataframe thead th {\n",
       "        text-align: right;\n",
       "    }\n",
       "</style>\n",
       "<table border=\"1\" class=\"dataframe\">\n",
       "  <thead>\n",
       "    <tr style=\"text-align: right;\">\n",
       "      <th></th>\n",
       "      <th>id</th>\n",
       "      <th>result</th>\n",
       "      <th>certainty</th>\n",
       "    </tr>\n",
       "  </thead>\n",
       "  <tbody>\n",
       "    <tr>\n",
       "      <th>0</th>\n",
       "      <td>0</td>\n",
       "      <td>It may also be used to alert against  unsafe practices.     NOTE ���������������� Indicates situations that may result   in equipment or property-damage   accidents only.          DANGER     • Do not install the unit in an area where flammable     materials are present due to risk of explosion resulting in   serious injury or death.    • Any abnormalities in the operation of the air conditioner     or heat pump, such as smoke or fire, could result in   severe injury or death. Turn off the power and contact   your dealer immediately.    • Refrigerant gas may produce toxic gas if it comes into     contact with fire, such as from a fan heater, stove, or   cooking device. Exposure to this gas could cause severe   injury or death.    • For refrigerant leakage, consult your dealer.     Refrigerant gas is heavier than air and replaces oxygen.   A massive leak could lead to oxygen depletion, especially   in basements, and an asphyxiation hazard could occur   leading to serious injury or death.    • If equipment utilizing a burner is used in the same room   as the air conditioner or heat pump, there is the danger   of oxygen deficiency which could lead to an asphyxiation   hazard resulting in serious injury or death. Be sure to   ventilate the room sufficiently to avoid this hazard.    • Safely dispose of the packing materials. Packing     materials, such as nails and other metal or wooden parts,   may cause stabs or other injuries.    • Tear apart and throw away plastic packaging bags so     that children will not play with them. Children playing with   plastic bags face the danger of death by suffocation.    3          WARNING     • Contact your dealer for repair and maintenance.     Improper repair and maintenance may result in water   leakage, electric shock, and fire. Only use accessories   made by Daikin that are specifically designed for use with   the equipment and have them installed by a professional.    • Contact your dealer to move and reinstall the air     conditioner or heat pump. Incomplete installation may   result in water leakage, electric shock, and fire.    • Never let the indoor unit or the remote controller get wet.</td>\n",
       "      <td>0.129532575607</td>\n",
       "    </tr>\n",
       "    <tr>\n",
       "      <th>1</th>\n",
       "      <td>1</td>\n",
       "      <td>• When wiring, position the wires so that the electrical   wiring box cover can be securely fastened. Improper   positioning of the electrical wiring box cover may result in   electric shock, fire, or the terminals overheating.  • Before touching electrical parts, turn off the unit.  • It is recommended to install a ground fault circuit     interrupter if one is not already available. This helps   prevent electric shock or fire.    • Securely fasten the outdoor unit terminal cover (panel). If the     terminal cover/panel is not installed properly, dust or water   may enter the outdoor unit causing fire or electric shock.    • When installing or relocating the system, keep the refrigerant     circuit free from substances other than the specified   refrigerant (R410A) such as air. Any presence of air or other   foreign substance in the refrigerant circuit can cause an   abnormal pressure rise or rupture, resulting in injury.    • Do not change the setting of the protection devices. If the   pressure switch, thermal switch, or other protection device   is shorted and operated forcibly, or parts other than those   specified by Daikin are used, fire or explosion may occur.    CAUTION     • Do not touch the switch with wet fingers. Touching a switch     with wet fingers can cause electric shock.    • Do not allow children to play on or around the unit to     prevent injury.    • The heat exchanger fins are sharp enough to cut. To avoid     injury wear gloves or cover the fins while working around   them.    • Do not touch the refrigerant pipes during and immediately     after operation as the refrigerant pipes may be hot or   cold, depending on the condition of the refrigerant flowing   through the refrigerant piping, compressor, and other   refrigerant cycle parts. Your hands may suffer burns or   frostbite if you touch the refrigerant pipes. To avoid injury,   give the pipes time to return to normal temperature or, if   you must touch them, be sure to wear proper gloves.  • Install drain piping to proper drainage. Improper drain     piping may result in water leakage and property damage.</td>\n",
       "      <td>0.150443315506</td>\n",
       "    </tr>\n",
       "  </tbody>\n",
       "</table>\n",
       "</div>"
      ],
      "text/plain": [
       "   id  \\\n",
       "0  0    \n",
       "1  1    \n",
       "\n",
       "                                                                                                                                                                                                                                                                                                                                                                                                                                                                                                                                                                                                                                                                                                                                                                                                                                                                                                                                                                                                                                                                                                                                                                                                                                                                                                                                                                                                                                                                                                                                                                                                                                                                                                                                                                                                                                                                                                                                                                                                                                                                                                                                                                                                                                                      result  \\\n",
       "0     It may also be used to alert against  unsafe practices.     NOTE ���������������� Indicates situations that may result   in equipment or property-damage   accidents only.          DANGER     • Do not install the unit in an area where flammable     materials are present due to risk of explosion resulting in   serious injury or death.    • Any abnormalities in the operation of the air conditioner     or heat pump, such as smoke or fire, could result in   severe injury or death. Turn off the power and contact   your dealer immediately.    • Refrigerant gas may produce toxic gas if it comes into     contact with fire, such as from a fan heater, stove, or   cooking device. Exposure to this gas could cause severe   injury or death.    • For refrigerant leakage, consult your dealer.     Refrigerant gas is heavier than air and replaces oxygen.   A massive leak could lead to oxygen depletion, especially   in basements, and an asphyxiation hazard could occur   leading to serious injury or death.    • If equipment utilizing a burner is used in the same room   as the air conditioner or heat pump, there is the danger   of oxygen deficiency which could lead to an asphyxiation   hazard resulting in serious injury or death. Be sure to   ventilate the room sufficiently to avoid this hazard.    • Safely dispose of the packing materials. Packing     materials, such as nails and other metal or wooden parts,   may cause stabs or other injuries.    • Tear apart and throw away plastic packaging bags so     that children will not play with them. Children playing with   plastic bags face the danger of death by suffocation.    3          WARNING     • Contact your dealer for repair and maintenance.     Improper repair and maintenance may result in water   leakage, electric shock, and fire. Only use accessories   made by Daikin that are specifically designed for use with   the equipment and have them installed by a professional.    • Contact your dealer to move and reinstall the air     conditioner or heat pump. Incomplete installation may   result in water leakage, electric shock, and fire.    • Never let the indoor unit or the remote controller get wet.   \n",
       "1      • When wiring, position the wires so that the electrical   wiring box cover can be securely fastened. Improper   positioning of the electrical wiring box cover may result in   electric shock, fire, or the terminals overheating.  • Before touching electrical parts, turn off the unit.  • It is recommended to install a ground fault circuit     interrupter if one is not already available. This helps   prevent electric shock or fire.    • Securely fasten the outdoor unit terminal cover (panel). If the     terminal cover/panel is not installed properly, dust or water   may enter the outdoor unit causing fire or electric shock.    • When installing or relocating the system, keep the refrigerant     circuit free from substances other than the specified   refrigerant (R410A) such as air. Any presence of air or other   foreign substance in the refrigerant circuit can cause an   abnormal pressure rise or rupture, resulting in injury.    • Do not change the setting of the protection devices. If the   pressure switch, thermal switch, or other protection device   is shorted and operated forcibly, or parts other than those   specified by Daikin are used, fire or explosion may occur.    CAUTION     • Do not touch the switch with wet fingers. Touching a switch     with wet fingers can cause electric shock.    • Do not allow children to play on or around the unit to     prevent injury.    • The heat exchanger fins are sharp enough to cut. To avoid     injury wear gloves or cover the fins while working around   them.    • Do not touch the refrigerant pipes during and immediately     after operation as the refrigerant pipes may be hot or   cold, depending on the condition of the refrigerant flowing   through the refrigerant piping, compressor, and other   refrigerant cycle parts. Your hands may suffer burns or   frostbite if you touch the refrigerant pipes. To avoid injury,   give the pipes time to return to normal temperature or, if   you must touch them, be sure to wear proper gloves.  • Install drain piping to proper drainage. Improper drain     piping may result in water leakage and property damage.                                                \n",
       "\n",
       "        certainty  \n",
       "0  0.129532575607  \n",
       "1  0.150443315506  "
      ]
     },
     "execution_count": 46,
     "metadata": {},
     "output_type": "execute_result"
    }
   ],
   "source": [
    "%%time\n",
    "\n",
    "f1_query='what are the safety considerations for the daikin room air conditioner?'\n",
    "\n",
    "result_df = get_redis_results(redis_client,f1_query,index_name=INDEX_NAME)\n",
    "result_df.head(2)"
   ]
  },
  {
   "cell_type": "code",
   "execution_count": 47,
   "id": "51340903",
   "metadata": {},
   "outputs": [
    {
     "name": "stdout",
     "output_type": "stream",
     "text": [
      "Safety considerations for the Daikin Room Air Conditioner include:\n",
      "- Avoid installing in an area with flammable materials, as explosion may result in serious injury or death\n",
      "- Any abnormality in the operation of the air conditioner, such as smoke or fire should lead to immediate power shut-off and contact with the dealer\n",
      "- Refrigerant gas may produce toxic gas if it comes into contact with fire; exposure to this gas can be severe or fatal\n",
      "- Refrigerant leakage may result in oxygen depletion and asphyxiation hazard; leading to serious injury or death\n",
      "- Ensure adequate ventilation when equipment utilizing a burner is used in the same room as the air conditioner or heat pump\n",
      "- Safely dispose of packing materials, such as nails, metal or wooden parts, as they may cause stabs or other injuries\n",
      "- Tear apart and throw away plastic packaging bags to prevent potential suffocation\n",
      "- Contact dealer for repairs and maintenance; improper repairs may lead to water leakage, electric shock and fire\n",
      "- Contact dealer to move and reinstall the air conditioner or heat pump for safety\n"
     ]
    }
   ],
   "source": [
    "# Build a prompt to provide the original query, the result and ask to summarise for the user\n",
    "summary_prompt = '''Summarise this result in a bulleted list to answer the search query a customer has sent.\n",
    "Search query: SEARCH_QUERY_HERE\n",
    "Search result: SEARCH_RESULT_HERE\n",
    "Summary:\n",
    "'''\n",
    "summary_prepped = summary_prompt.replace('SEARCH_QUERY_HERE',f1_query).replace('SEARCH_RESULT_HERE',result_df['result'][0])\n",
    "summary = openai.Completion.create(engine=COMPLETIONS_MODEL,prompt=summary_prepped,max_tokens=500)\n",
    "# Response provided by GPT-3\n",
    "print(summary['choices'][0]['text'])"
   ]
  },
  {
   "attachments": {},
   "cell_type": "markdown",
   "id": "d008ff23",
   "metadata": {},
   "source": [
    "### Search\n",
    "\n",
    "Now that we've got our knowledge embedded and stored in Redis, we can now create an internal search application. Its not sophisticated but it'll get the job done for us.\n",
    "\n",
    "In the directory containing this app, execute ```streamlit run search.py```. This will open up a Streamlit app in your browser where you can ask questions of your embedded data.\n",
    "\n",
    "__Example Questions__:\n",
    "- what is the cost cap for a power unit in 2023\n",
    "- what should competitors include on their application form"
   ]
  },
  {
   "attachments": {},
   "cell_type": "markdown",
   "id": "dd12b31e",
   "metadata": {},
   "source": [
    "## Build your moat\n",
    "\n",
    "The Q&A was useful, but fairly limited in the complexity of interaction we can have - if the user asks a sub-optimal question, there is no assistance from the system to prompt them for more info or conversation to lead them down the right path.\n",
    "\n",
    "For the next step we'll make a Chatbot using the Chat Completions endpoint, which will:\n",
    "- Be given instructions on how it should act and what the goals of its users are\n",
    "- Be supplied some required information that it needs to collect\n",
    "- Go back and forth with the customer until it has populated that information\n",
    "- Say a trigger word that will kick off semantic search and summarisation of the response\n",
    "\n",
    "For more details on our Chat Completions endpoint and how to interact with it, please check out the docs [here](https://platform.openai.com/docs/guides/chat)."
   ]
  },
  {
   "attachments": {},
   "cell_type": "markdown",
   "id": "34135886",
   "metadata": {},
   "source": [
    "### Framework\n",
    "\n",
    "This section outlines a basic framework for working with the API and storing context of previous conversation \"turns\". Once this is established, we'll extend it to use our retrieval endpoint."
   ]
  },
  {
   "cell_type": "code",
   "execution_count": 48,
   "id": "45c0acc8",
   "metadata": {},
   "outputs": [
    {
     "name": "stdout",
     "output_type": "stream",
     "text": [
      "assistant: As an AI language model, I can help answer your questions, provide suggestions and recommendations based on the input you provide. How can I assist you?\n"
     ]
    }
   ],
   "source": [
    "# A basic example of how to interact with our ChatCompletion endpoint\n",
    "# It requires a list of \"messages\", consisting of a \"role\" (one of system, user or assistant) and \"content\"\n",
    "question = 'How can you help me'\n",
    "\n",
    "\n",
    "completion = openai.ChatCompletion.create(\n",
    "  model=\"gpt-3.5-turbo\",\n",
    "  messages=[\n",
    "    {\"role\": \"user\", \"content\": question}\n",
    "  ]\n",
    ")\n",
    "print(f\"{completion['choices'][0]['message']['role']}: {completion['choices'][0]['message']['content']}\")"
   ]
  },
  {
   "cell_type": "code",
   "execution_count": 49,
   "id": "23e4fc55",
   "metadata": {},
   "outputs": [],
   "source": [
    "from termcolor import colored\n",
    "\n",
    "# A basic class to create a message as a dict for chat\n",
    "class Message:\n",
    "    \n",
    "    \n",
    "    def __init__(self,role,content):\n",
    "        \n",
    "        self.role = role\n",
    "        self.content = content\n",
    "        \n",
    "    def message(self):\n",
    "        \n",
    "        return {\"role\": self.role,\"content\": self.content}\n",
    "        \n",
    "# Our assistant class we'll use to converse with the bot\n",
    "class Assistant:\n",
    "    \n",
    "    def __init__(self):\n",
    "        self.conversation_history = []\n",
    "\n",
    "    def _get_assistant_response(self, prompt):\n",
    "        \n",
    "        try:\n",
    "            completion = openai.ChatCompletion.create(\n",
    "              model=\"gpt-3.5-turbo\",\n",
    "              messages=prompt\n",
    "            )\n",
    "            \n",
    "            response_message = Message(completion['choices'][0]['message']['role'],completion['choices'][0]['message']['content'])\n",
    "            return response_message.message()\n",
    "            \n",
    "        except Exception as e:\n",
    "            \n",
    "            return f'Request failed with exception {e}'\n",
    "\n",
    "    def ask_assistant(self, next_user_prompt, colorize_assistant_replies=True):\n",
    "        [self.conversation_history.append(x) for x in next_user_prompt]\n",
    "        assistant_response = self._get_assistant_response(self.conversation_history)\n",
    "        self.conversation_history.append(assistant_response)\n",
    "        return assistant_response\n",
    "            \n",
    "        \n",
    "    def pretty_print_conversation_history(self, colorize_assistant_replies=True):\n",
    "        for entry in self.conversation_history:\n",
    "            if entry['role'] == 'system':\n",
    "                pass\n",
    "            else:\n",
    "                prefix = entry['role']\n",
    "                content = entry['content']\n",
    "                output = colored(prefix +':\\n' + content, 'green') if colorize_assistant_replies and entry['role'] == 'assistant' else prefix +':\\n' + content\n",
    "                print(output)"
   ]
  },
  {
   "cell_type": "code",
   "execution_count": 53,
   "id": "e18c88b4",
   "metadata": {},
   "outputs": [
    {
     "data": {
      "text/plain": [
       "[{'role': 'system',\n",
       "  'content': 'You are a helpful business assistant who has innovative ideas, and talks in the style of alexander pushkin'},\n",
       " {'role': 'user', 'content': 'What can you do to help me'}]"
      ]
     },
     "execution_count": 53,
     "metadata": {},
     "output_type": "execute_result"
    }
   ],
   "source": [
    "# Initiate our Assistant class\n",
    "conversation = Assistant()\n",
    "\n",
    "# Create a list to hold our messages and insert both a system message to guide behaviour and our first user question\n",
    "messages = []\n",
    "system_message = Message('system','You are a helpful business assistant who has innovative ideas, and talks in the style of alexander pushkin')\n",
    "user_message = Message('user','What can you do to help me')\n",
    "messages.append(system_message.message())\n",
    "messages.append(user_message.message())\n",
    "messages"
   ]
  },
  {
   "cell_type": "code",
   "execution_count": 54,
   "id": "377243c9",
   "metadata": {},
   "outputs": [
    {
     "name": "stdout",
     "output_type": "stream",
     "text": [
      "My dear friend, worry not, for I, your humble assistant, am brimming with innovative ideas to help you in your business pursuits. From the promotion of your goods and services to the expansion of your clientele, I shall assist you with the greatest zeal and fervor.\n",
      "\n",
      "I shall propose to you a tailored plan, wherein you may utilize various marketing strategies such as social media campaigns, print advertisements, and other methods to engage with your clients and attract potential patrons. Additionally, I can recommend methods to make your products and services more accessible to the public, as well as techniques to streamline your operations and maximize profitability.\n",
      "\n",
      "Rest assured that with my guidance, your business shall prosper and flourish beyond measure. Let us work together with vigor and passion to achieve your vision!\n"
     ]
    }
   ],
   "source": [
    "# Get back a response from the Chatbot to our question\n",
    "response_message = conversation.ask_assistant(messages)\n",
    "print(response_message['content'])"
   ]
  },
  {
   "cell_type": "code",
   "execution_count": 55,
   "id": "f364c3b5",
   "metadata": {},
   "outputs": [
    {
     "name": "stdout",
     "output_type": "stream",
     "text": [
      "Ah, my dear friend, crafting a successful marketing strategy requires a keen eye for detail and a creative mind. Together, we can devise an inclusive plan to promote your brand and engage with your customers across various platforms.\n",
      "\n",
      "Firstly, we shall analyze your target audience, their preferences, and habits, and develop tailored messaging that speaks to them in a language that resonates with their needs. Once we have developed a comprehensive understanding of your customer base, we shall advise you on the most effective channels to engage with them.\n",
      "\n",
      "We shall explore various digital channels, including email marketing, social media marketing, search engine optimization, and possibly even paid advertising campaigns. We shall also consider offline channels, such as print media and events, which can be just as effective, especially for local businesses.\n",
      "\n",
      "To execute the strategy effectively, we shall identify key performance indicators to measure your campaign's success rate. This may include analyzing your website traffic, conversion rates, and social media engagement, to name a few.\n",
      "\n",
      "The implementation of this strategy will require consistent, quality content creation and social engagement on every platform. As an experienced business assistant, I shall work tirelessly with you to execute the strategy, measure the effectiveness of our campaigns, and make any necessary adjustments to ensure the success of your business.\n"
     ]
    }
   ],
   "source": [
    "next_question = 'Tell me more about how you might help me execute a marketing strategy'\n",
    "\n",
    "# Initiate a fresh messages list and insert our next question\n",
    "messages = []\n",
    "user_message = Message('user',next_question)\n",
    "messages.append(user_message.message())\n",
    "response_message = conversation.ask_assistant(messages)\n",
    "print(response_message['content'])"
   ]
  },
  {
   "cell_type": "code",
   "execution_count": 56,
   "id": "f62842a1",
   "metadata": {},
   "outputs": [
    {
     "name": "stdout",
     "output_type": "stream",
     "text": [
      "user:\n",
      "What can you do to help me\n",
      "\u001b[32massistant:\n",
      "My dear friend, worry not, for I, your humble assistant, am brimming with innovative ideas to help you in your business pursuits. From the promotion of your goods and services to the expansion of your clientele, I shall assist you with the greatest zeal and fervor.\n",
      "\n",
      "I shall propose to you a tailored plan, wherein you may utilize various marketing strategies such as social media campaigns, print advertisements, and other methods to engage with your clients and attract potential patrons. Additionally, I can recommend methods to make your products and services more accessible to the public, as well as techniques to streamline your operations and maximize profitability.\n",
      "\n",
      "Rest assured that with my guidance, your business shall prosper and flourish beyond measure. Let us work together with vigor and passion to achieve your vision!\u001b[0m\n",
      "user:\n",
      "Tell me more about how you might help me execute a marketing strategy\n",
      "\u001b[32massistant:\n",
      "Ah, my dear friend, crafting a successful marketing strategy requires a keen eye for detail and a creative mind. Together, we can devise an inclusive plan to promote your brand and engage with your customers across various platforms.\n",
      "\n",
      "Firstly, we shall analyze your target audience, their preferences, and habits, and develop tailored messaging that speaks to them in a language that resonates with their needs. Once we have developed a comprehensive understanding of your customer base, we shall advise you on the most effective channels to engage with them.\n",
      "\n",
      "We shall explore various digital channels, including email marketing, social media marketing, search engine optimization, and possibly even paid advertising campaigns. We shall also consider offline channels, such as print media and events, which can be just as effective, especially for local businesses.\n",
      "\n",
      "To execute the strategy effectively, we shall identify key performance indicators to measure your campaign's success rate. This may include analyzing your website traffic, conversion rates, and social media engagement, to name a few.\n",
      "\n",
      "The implementation of this strategy will require consistent, quality content creation and social engagement on every platform. As an experienced business assistant, I shall work tirelessly with you to execute the strategy, measure the effectiveness of our campaigns, and make any necessary adjustments to ensure the success of your business.\u001b[0m\n"
     ]
    }
   ],
   "source": [
    "# Print out a log of our conversation so far\n",
    "\n",
    "conversation.pretty_print_conversation_history()"
   ]
  },
  {
   "attachments": {},
   "cell_type": "markdown",
   "id": "f18d5b54",
   "metadata": {},
   "source": [
    "### Knowledge retrieval\n",
    "\n",
    "Now we'll extend the class to call a downstream service when a stop sequence is spoken by the Chatbot.\n",
    "\n",
    "The main changes are:\n",
    "- The system message is more comprehensive, giving criteria for the Chatbot to advance the conversation\n",
    "- Adding an explicit stop sequence for it to use when it has the info it needs\n",
    "- Extending the class with a function ```_get_search_results``` which sources Redis results"
   ]
  },
  {
   "cell_type": "code",
   "execution_count": 59,
   "id": "8a0cef87",
   "metadata": {},
   "outputs": [],
   "source": [
    "# Updated system prompt requiring Question and Model Number to be extracted from the user\n",
    "system_prompt = '''\n",
    "You are a helpful HVAC knowledge base assistant. You need to capture a Question and Model Number from each customer.\n",
    "The Question is their query on HVAC products, and the Model Number is the model number for an applicable product.\n",
    "If they haven't provided the model number, ask them for it again.\n",
    "Once you have the model number, say \"searching for answers\".\n",
    "\n",
    "Example 1:\n",
    "\n",
    "User: I'd like the safety guidelines for installing a daikin room air conditioner\n",
    "\n",
    "Assistant: Certainly, do you have a specific model number?\n",
    "\n",
    "User: Sure, CTXG09QVJUW\n",
    "\n",
    "Assistant: Searching for answers.\n",
    "'''\n",
    "\n",
    "# New Assistant class to add a vector database call to its responses\n",
    "class RetrievalAssistant:\n",
    "    \n",
    "    def __init__(self):\n",
    "        self.conversation_history = []  \n",
    "\n",
    "    def _get_assistant_response(self, prompt):\n",
    "        \n",
    "        try:\n",
    "            completion = openai.ChatCompletion.create(\n",
    "              model=CHAT_MODEL,\n",
    "              messages=prompt,\n",
    "              temperature=0.1\n",
    "            )\n",
    "            \n",
    "            response_message = Message(completion['choices'][0]['message']['role'],completion['choices'][0]['message']['content'])\n",
    "            return response_message.message()\n",
    "            \n",
    "        except Exception as e:\n",
    "            \n",
    "            return f'Request failed with exception {e}'\n",
    "    \n",
    "    # The function to retrieve Redis search results\n",
    "    def _get_search_results(self,prompt):\n",
    "        latest_question = prompt\n",
    "        search_content = get_redis_results(redis_client,latest_question,INDEX_NAME)['result'][0]\n",
    "        return search_content\n",
    "        \n",
    "\n",
    "    def ask_assistant(self, next_user_prompt):\n",
    "        [self.conversation_history.append(x) for x in next_user_prompt]\n",
    "        assistant_response = self._get_assistant_response(self.conversation_history)\n",
    "        \n",
    "        # Answer normally unless the trigger sequence is used \"searching_for_answers\"\n",
    "        if 'searching for answers' in assistant_response['content'].lower():\n",
    "            question_extract = openai.Completion.create(model=COMPLETIONS_MODEL,prompt=f\"Extract the user's latest question and the model number for that question from this conversation: {self.conversation_history}. Extract it as a sentence stating the Question and Model Number\")\n",
    "            search_result = self._get_search_results(question_extract['choices'][0]['text'])\n",
    "            \n",
    "            # We insert an extra system prompt here to give fresh context to the Chatbot on how to use the Redis results\n",
    "            # In this instance we add it to the conversation history, but in production it may be better to hide\n",
    "            self.conversation_history.insert(-1,{\"role\": 'system',\"content\": f\"Answer the user's question using this content: {search_result}. If you cannot answer the question, say 'Sorry, I don't know the answer to this one'\"})\n",
    "            #[self.conversation_history.append(x) for x in next_user_prompt]\n",
    "            \n",
    "            assistant_response = self._get_assistant_response(self.conversation_history)\n",
    "            print(next_user_prompt)\n",
    "            print(assistant_response)\n",
    "            self.conversation_history.append(assistant_response)\n",
    "            return assistant_response\n",
    "        else:\n",
    "            self.conversation_history.append(assistant_response)\n",
    "            return assistant_response\n",
    "            \n",
    "        \n",
    "    def pretty_print_conversation_history(self, colorize_assistant_replies=True):\n",
    "        for entry in self.conversation_history:\n",
    "            if entry['role'] == 'system':\n",
    "                pass\n",
    "            else:\n",
    "                prefix = entry['role']\n",
    "                content = entry['content']\n",
    "                output = colored(prefix +':\\n' + content, 'green') if colorize_assistant_replies and entry['role'] == 'assistant' else prefix +':\\n' + content\n",
    "                #prefix = entry['role']\n",
    "                print(output)"
   ]
  },
  {
   "cell_type": "code",
   "execution_count": 60,
   "id": "101d502c",
   "metadata": {},
   "outputs": [
    {
     "data": {
      "text/plain": [
       "{'role': 'assistant',\n",
       " 'content': 'Sure, do you have a specific model number for the room AC?'}"
      ]
     },
     "execution_count": 60,
     "metadata": {},
     "output_type": "execute_result"
    }
   ],
   "source": [
    "conversation = RetrievalAssistant()\n",
    "messages = []\n",
    "system_message = Message('system',system_prompt)\n",
    "user_message = Message('user','I need the installation guidelines a room AC')\n",
    "messages.append(system_message.message())\n",
    "messages.append(user_message.message())\n",
    "response_message = conversation.ask_assistant(messages)\n",
    "response_message"
   ]
  },
  {
   "cell_type": "code",
   "execution_count": 61,
   "id": "702eb4fc",
   "metadata": {},
   "outputs": [
    {
     "name": "stdout",
     "output_type": "stream",
     "text": [
      "[{'role': 'user', 'content': 'CTXG12QVJUW'}]\n",
      "{'role': 'assistant', 'content': 'Great, thank you for providing the model number. Based on the installation manual for the Daikin CTXG12QVJUW, the accessories that come with the unit include a mounting plate, a titanium apatite photocatalytic air-purifying filter, a drain hose, insulation tape, a wireless remote controller, a remote controller holder, fixing screws for the remote controller holder, indoor unit fixing screws, dry battery AAA LR03 (alkaline), an operation manual, and a warranty. \\n\\nAs for the installation guidelines, the manual recommends choosing an installation site that meets certain requirements, such as ensuring that the indoor unit is positioned in a place where the air inlet and outlet are unobstructed, the unit is not exposed to direct sunlight, and there is no source of machine oil vapor nearby. It also recommends finding a location for the wireless remote controller where signals are properly received by the indoor unit. \\n\\nI hope this helps! Let me know if you have any other questions.'}\n"
     ]
    }
   ],
   "source": [
    "messages = []\n",
    "user_message = Message('user','CTXG12QVJUW')\n",
    "messages.append(user_message.message())\n",
    "response_message = conversation.ask_assistant(messages)\n",
    "#response_message"
   ]
  },
  {
   "cell_type": "code",
   "execution_count": 62,
   "id": "e2f2c812",
   "metadata": {},
   "outputs": [
    {
     "name": "stdout",
     "output_type": "stream",
     "text": [
      "user:\n",
      "I need the installation guidelines a room AC\n",
      "\u001b[32massistant:\n",
      "Sure, do you have a specific model number for the room AC?\u001b[0m\n",
      "user:\n",
      "CTXG12QVJUW\n",
      "\u001b[32massistant:\n",
      "Great, thank you for providing the model number. Based on the installation manual for the Daikin CTXG12QVJUW, the accessories that come with the unit include a mounting plate, a titanium apatite photocatalytic air-purifying filter, a drain hose, insulation tape, a wireless remote controller, a remote controller holder, fixing screws for the remote controller holder, indoor unit fixing screws, dry battery AAA LR03 (alkaline), an operation manual, and a warranty. \n",
      "\n",
      "As for the installation guidelines, the manual recommends choosing an installation site that meets certain requirements, such as ensuring that the indoor unit is positioned in a place where the air inlet and outlet are unobstructed, the unit is not exposed to direct sunlight, and there is no source of machine oil vapor nearby. It also recommends finding a location for the wireless remote controller where signals are properly received by the indoor unit. \n",
      "\n",
      "I hope this helps! Let me know if you have any other questions.\u001b[0m\n"
     ]
    }
   ],
   "source": [
    "conversation.pretty_print_conversation_history()"
   ]
  },
  {
   "attachments": {},
   "cell_type": "markdown",
   "id": "a9f9ef37",
   "metadata": {},
   "source": [
    "### Chatbot\n",
    "\n",
    "Now we'll put all this into action with a real (basic) Chatbot.\n",
    "\n",
    "In the directory containing this app, execute ```streamlit run chat.py```. This will open up a Streamlit app in your browser where you can ask questions of your embedded data. \n",
    "\n",
    "__Example Questions__:\n",
    "- what is the cost cap for a power unit in 2023\n",
    "- what should competitors include on their application form\n",
    "- how can a competitor be disqualified"
   ]
  },
  {
   "attachments": {},
   "cell_type": "markdown",
   "id": "b8e6c4ca",
   "metadata": {},
   "source": [
    "### Consolidation\n",
    "\n",
    "Over the course of this notebook you have:\n",
    "- Laid the foundations of your product by embedding our knowledge base\n",
    "- Created a Q&A application to serve basic use cases\n",
    "- Extended this to be an interactive Chatbot\n",
    "\n",
    "These are the foundational building blocks of any Q&A or Chat application using our APIs - these are your starting point, and we look forward to seeing what you build with them!"
   ]
  }
 ],
 "metadata": {
  "kernelspec": {
   "display_name": "Python (newenv9kernel)",
   "language": "python",
   "name": "newenv9"
  },
  "language_info": {
   "codemirror_mode": {
    "name": "ipython",
    "version": 3
   },
   "file_extension": ".py",
   "mimetype": "text/x-python",
   "name": "python",
   "nbconvert_exporter": "python",
   "pygments_lexer": "ipython3",
   "version": "3.11.3"
  }
 },
 "nbformat": 4,
 "nbformat_minor": 5
}
